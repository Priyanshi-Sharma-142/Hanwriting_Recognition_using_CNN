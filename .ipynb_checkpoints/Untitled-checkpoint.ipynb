{
 "cells": [
  {
   "cell_type": "code",
   "execution_count": 9,
   "id": "1750791a",
   "metadata": {},
   "outputs": [
    {
     "name": "stdout",
     "output_type": "stream",
     "text": [
      "[ERR] Desktop/HTR/database/words\n",
      "[ERR] Desktop/HTR/database/words/a01/a01-000u\n",
      "[ERR] Desktop/HTR/database/words.txt\n",
      "[ERR] Desktop/HTR/database/test.png\n",
      "[ERR] Desktop/HTR/database/words/a01/a01-000u/a01-000u-00-00.png\n"
     ]
    }
   ],
   "source": [
    "import os.path\n",
    "\n",
    "\n",
    "checkDirs = ['Desktop/HTR/database/words', 'Desktop/HTR/database/words/a01/a01-000u']\n",
    "checkFiles = ['Desktop/HTR/database/words.txt', 'Desktop/HTR/database/test.png', 'Desktop/HTR/database/words/a01/a01-000u/a01-000u-00-00.png']\n",
    "\n",
    "\n",
    "for f in checkDirs:\n",
    "\tif os.path.isdir(f):\n",
    "\t\tprint('[OK]', f)\n",
    "\telse:\n",
    "\t\tprint('[ERR]', f)\n",
    "\n",
    "\n",
    "for f in checkFiles:\n",
    "\tif os.path.isfile(f):\n",
    "\t\tprint('[OK]', f)\n",
    "\telse:\n",
    "\t\tprint('[ERR]', f)"
   ]
  },
  {
   "cell_type": "code",
   "execution_count": null,
   "id": "255c22e5",
   "metadata": {},
   "outputs": [],
   "source": []
  },
  {
   "cell_type": "code",
   "execution_count": null,
   "id": "18723bb1",
   "metadata": {},
   "outputs": [],
   "source": []
  }
 ],
 "metadata": {
  "kernelspec": {
   "display_name": "Python 3",
   "language": "python",
   "name": "python3"
  },
  "language_info": {
   "codemirror_mode": {
    "name": "ipython",
    "version": 3
   },
   "file_extension": ".py",
   "mimetype": "text/x-python",
   "name": "python",
   "nbconvert_exporter": "python",
   "pygments_lexer": "ipython3",
   "version": "3.8.8"
  }
 },
 "nbformat": 4,
 "nbformat_minor": 5
}
